{
 "metadata": {
  "language_info": {
   "codemirror_mode": {
    "name": "ipython",
    "version": 3
   },
   "file_extension": ".py",
   "mimetype": "text/x-python",
   "name": "python",
   "nbconvert_exporter": "python",
   "pygments_lexer": "ipython3",
   "version": "3.8.5-final"
  },
  "orig_nbformat": 2,
  "kernelspec": {
   "name": "python3",
   "display_name": "Python 3.8.5 64-bit ('base': conda)",
   "metadata": {
    "interpreter": {
     "hash": "8f51179b95cc92a0efd56eb59e6986c1fbb96d339a0fe957e7a9e762b2cac3ca"
    }
   }
  }
 },
 "nbformat": 4,
 "nbformat_minor": 2,
 "cells": [
  {
   "source": [
    "**Import modules**"
   ],
   "cell_type": "markdown",
   "metadata": {}
  },
  {
   "cell_type": "code",
   "execution_count": 1,
   "metadata": {},
   "outputs": [],
   "source": [
    "import os"
   ]
  },
  {
   "source": [
    "**Set `VIRTUAL_MACHINES_PATH` to folder containing Virtual Machine Directory**"
   ],
   "cell_type": "markdown",
   "metadata": {}
  },
  {
   "cell_type": "code",
   "execution_count": 2,
   "metadata": {},
   "outputs": [
    {
     "output_type": "execute_result",
     "data": {
      "text/plain": [
       "['SQL-F',\n",
       " 'Android',\n",
       " 'SQL-E',\n",
       " 'SQL-H',\n",
       " 'SQL-D',\n",
       " 'SQL-C',\n",
       " 'SQL-A',\n",
       " 'Win10',\n",
       " 'SQL-B',\n",
       " 'DC',\n",
       " 'SQL-G',\n",
       " 'SQL-I',\n",
       " 'OEM']"
      ]
     },
     "metadata": {},
     "execution_count": 2
    }
   ],
   "source": [
    "VIRTUAL_MACHINES_PATH = '/study-zone/virtual-machines/'\n",
    "os.listdir(VIRTUAL_MACHINES_PATH)"
   ]
  },
  {
   "source": [
    "**Set `sql_vm_name` to Virtual Machine Name**"
   ],
   "cell_type": "markdown",
   "metadata": {}
  },
  {
   "cell_type": "code",
   "execution_count": 18,
   "metadata": {},
   "outputs": [
    {
     "output_type": "stream",
     "name": "stdout",
     "text": [
      "'SQL-J' name looks good to proceed\n"
     ]
    }
   ],
   "source": [
    "sql_vm_name = 'SQL-J'\n",
    "\n",
    "is_vm_existing = False\n",
    "for vm in os.listdir(VIRTUAL_MACHINES_PATH):\n",
    "    if vm == sql_vm_name:\n",
    "        is_vm_existing = True\n",
    "        break\n",
    "if is_vm_existing:\n",
    "    raise Exception(f\"Machine/folder with name '{sql_vm_name}' already exists\")\n",
    "else:\n",
    "    print(f\"'{sql_vm_name}' name looks good to proceed\")"
   ]
  },
  {
   "cell_type": "code",
   "execution_count": null,
   "metadata": {},
   "outputs": [],
   "source": []
  }
 ]
}