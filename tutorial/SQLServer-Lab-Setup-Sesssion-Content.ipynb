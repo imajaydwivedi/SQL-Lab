{
    "metadata": {
        "kernelspec": {
            "name": "python3",
            "display_name": "Python 3 (ipykernel)",
            "language": "python"
        },
        "language_info": {
            "name": "python",
            "version": "3.8.10",
            "mimetype": "text/x-python",
            "codemirror_mode": {
                "name": "ipython",
                "version": 3
            },
            "pygments_lexer": "ipython3",
            "nbconvert_exporter": "python",
            "file_extension": ".py"
        }
    },
    "nbformat_minor": 2,
    "nbformat": 4,
    "cells": [
        {
            "cell_type": "markdown",
            "source": [
                "# SQL Server Lab with MultiSubnet Failover Clustering with AG\n",
                "\n",
                "> ### Practice Makes Perfect"
            ],
            "metadata": {
                "azdata_cell_guid": "b8e75c6a-d1d9-431f-88b1-301b31dcfec4"
            }
        },
        {
            "cell_type": "markdown",
            "source": [
                "# Table of Content"
            ],
            "metadata": {
                "azdata_cell_guid": "95433c7b-632a-4b98-acb6-8926a93fc63b"
            }
        },
        {
            "cell_type": "markdown",
            "source": [
                "## Day 01\n",
                "\n",
                "1. Basics of Oracle VM VirtualBox Manager\n",
                "    \n",
                "    - Preferences\n",
                "        - Extensions\n",
                "        - Default Machine Folder\n",
                "    - Host Network Manager\n",
                "        - Create HostOnly Adapter for Subnet 192.168.56.0/24\n",
                "        - Create HostOnly Adapter for Subnet 192.168.57.0/24\n",
                "2. Create VM - DC2\n",
                "    \n",
                "    - Settings\n",
                "        \n",
                "        - General\n",
                "            \n",
                "            - Basic\n",
                "                - Name - DC2\n",
                "                - Version (OS) - Windows Server 2019 DomainCenter (64-bit)\n",
                "            - Advanced\n",
                "                - Shared Clipboard - Bidirectional\n",
                "                - Drag'n'Drop - Bidirectional\n",
                "        - System\n",
                "            \n",
                "            - Motherboard\n",
                "                - Base Memory (RAM) - 2048 MB\n",
                "                - Boot Order\n",
                "                    1. Optical\n",
                "                    2. Hard Disk\n",
                "            - Processor\n",
                "                - Processor(s) - 2 CPU\n",
                "        - Storage\n",
                "            \n",
                "            - Storage Devices\n",
                "                - Controller: SATA\n",
                "                    1. DC2.vdi\n",
                "                        - Size - 80 GB\n",
                "                        - Dynamic Disk\n",
                "                    2. Optical Drive\n",
                "                    3. DC2\\_SAN.vdi\n",
                "                        - Size - 500 GB\n",
                "                        - Dynamic Disk\n",
                "        - Network\n",
                "            \n",
                "            1. Adapter 1\n",
                "                \n",
                "                - Host-only Adapter\n",
                "                - Subnet 192.168.56.0/24\n",
                "            2. Adapter 2\n",
                "                \n",
                "                - Host-only Adapter\n",
                "                - Subnet 192.168.57.0/24\n",
                "            3. Adapter 3\n",
                "                \n",
                "                > After OS is successfully installed\n",
                "                \n",
                "                - Bridged Adapter with Static IP from Router\n",
                "        - Shared Folders\n",
                "            \n",
                "            - Your software/scripts path with 'Full' access and 'Auto Mount' at **Z:** drive\n",
                "3. Install Windows Server 2019 on DC2 VM\n",
                "    \n",
                "4. Prepare DC2 VM for Domain Controller\n",
                "    \n",
                "    1. Rename computer to DC2.Lab.local & reboot\n",
                "        \n",
                "    2. Set Static IP with network adapters\n",
                "        \n",
                "        - Network and Settings \\> Change adapter Options\n",
                "            \n",
                "            > Make sure to MATCH MAC Address in OS with MAC address of VM Adapter Settings\n",
                "            \n",
                "        - Adapter 1\n",
                "            \n",
                "            - IP address: 192.168.56.10\n",
                "            - Subnet mask: 255.255.255.0\n",
                "            - Default gateway: **blank**\n",
                "            - Preferred DNS server: 127.0.0.1\n",
                "        - Adapter 2\n",
                "            \n",
                "            - IP address: 192.168.57.10\n",
                "            - Subnet mask: 255.255.255.0\n",
                "            - Default gateway: **blank**\n",
                "            - Preferred DNS server: 127.0.0.1\n",
                "        - Apater 3 (Bridged)\n",
                "            - Set static Ip address from router itself by MAC address binding\n",
                "\n",
                "    3. Add roles and features\n",
                "        \n",
                "        - Active Directory Domain Services\n",
                "        - Active Directory Lightweight Directory Services\n",
                "        - DNS Server\n",
                "        - File and Storage Services\n",
                "            - File and iSCSI Services\n",
                "                - File Server\n",
                "                - iSCSI Target Server\n",
                "                - iSCSI Target Storage Provider (VDS and VSS \\*\\*)\n",
                "            - Storage Services\n",
                "        - Remote Access\n",
                "            - DirectAccess and VPN\n",
                "            - Routing\n",
                "        - .NET Framework 3.5 Features\n",
                "        - .NET Framework 4.7 Features\n",
                "        - .Failover Clustering\n",
                "        - Remote Server Administration Tools\n",
                "        - Telnet Client\n",
                "    4. Configure Active Directory Domain Services\n",
                "        \n",
                "        1. Install ad domain services\n",
                "            \n",
                "        2. Create Active Directory Users\n",
                "            \n",
                "            - Lab\\\\SQLDBA\n",
                "                - Member of 'Domain Admins', 'Enterprise Admins', 'Schema Admins' & 'Administrators'\n",
                "            - Lab\\\\SQLServices\n",
                "                - Member of Lab\\\\SQLDBA\n",
                "            - Lab\\\\adwivedi\n",
                "                - Member of Lab\\\\SQLDBA\n",
                "        3. On DNS Manager, create Primary reverse lookup zone\n",
                "            \n",
                "            - For subnet 192.168.56.x\n",
                "                \n",
                "                > Create a primary reverse lookup zone for the subnet 192.168.56.x. Ensure that the zone is stored within AD DS and is replicated to all DNS servers running on domain controllers in the forest.\\`\n",
                "                \n",
                "            - For subnet 192.168.57.x\n",
                "                \n",
                "                > Create a primary reverse lookup zone for the subnet 192.168.57.x. Ensure that the zone is stored within AD DS and is replicated to all DNS servers running on domain controllers in the forest.\n",
                "                \n",
                "    5. Open firewall rules with name like 'Virtual Machine Monitoring \\*\\*'\n",
                "        \n",
                "    6. ~Install VirtualBox Guest Addition Extension~\n",
                "        \n",
                "5. Setup Routing b/w Subnets 192.168.56.x & 192.168.57.x\n",
                "    \n",
                "    > [sqlshack.com - Blog Post - Simulating a Multi Subnet cluster for setting up SQL Server Always On Availability Groups – lab setup](https://www.sqlshack.com/simulating-a-multi-subnet-cluster-for-setting-up-sql-server-always-on-availability-groups-lab-setup/)\n",
                "    \n",
                "    1. Open Routing and remote access config tool; right click on the root node and select “Enable and Configure Routing and remote access”.\n",
                "    2. Click next and select custom configuration and choose “LAN Routing”.\n",
                "    3. Click Next, finish and start the service.\n",
                "    4. On MMC window that opened, navigate to IPV4 section and under General right click and select “new routing protocol” and select “RIP Version 2 for Internet Protocol”. Finish.\n",
                "    5. By now, \"RIP\" sub section is added under IPv4.\n",
                "    6. Right click on the RIP under Ipv4 and select new Interface and select a NIC. Click \"OK\" and accept defaults on RIP Properties window.\n",
                "    7. Repeat the same process for your second host only NIC.\n",
                "    8. Repeat the same for bridged adapter NIC\n",
                "    9. With above steps, now, machine DC2.Lab.local will act as a router b/w subnets just using windows routing feature.\n",
                "6. Create VM - Workstation\n",
                "    \n",
                "    > We use this machine to perform DBA task. Similar to office desktop/latpop.\n",
                "    \n",
                "    - Settings\n",
                "        \n",
                "        - General\n",
                "            \n",
                "            - Basic\n",
                "                - Name - Workstation\n",
                "                - Version (OS) - Windows 10 (64-bit)\n",
                "            - Advanced\n",
                "                - Shared Clipboard - Bidirectional\n",
                "                - Drag'n'Drop - Bidirectional\n",
                "        - System\n",
                "            \n",
                "            - Motherboard\n",
                "                - Base Memory (RAM) - 5120 MB\n",
                "                - Boot Order\n",
                "                    1. Optical\n",
                "                    2. Hard Disk\n",
                "            - Processor\n",
                "                - Processor(s) - 2 CPU\n",
                "        - Storage\n",
                "            \n",
                "            - Storage Devices\n",
                "                - Controller: SATA\n",
                "                    1. DC.vdi\n",
                "                        - Size - 150 GB\n",
                "                        - Dynamic Disk\n",
                "                    2. Optical Drive\n",
                "                    3. Workstation\\_E\\_Drive.vdi\n",
                "                        - Size - 50 GB\n",
                "                        - Dynamic Disk\n",
                "                    4. Workstation\\_SQL.vdi\n",
                "                        - Size - 50 GB\n",
                "                        - Dynamic Disk\n",
                "        - Network\n",
                "            \n",
                "            1. Adapter 1\n",
                "                \n",
                "                - Host-only Adapter\n",
                "                - Ipv4/Subnet - **192.168.56**.51/24\n",
                "                - Gateway - 192.168.56.10 (DC2.Lab.local ip)\n",
                "                - DNS - 192.168.56.10 (DC2.Lab.local ip)\n",
                "            2. Adapter 2\n",
                "                \n",
                "                > After OS is successfully installed\n",
                "                \n",
                "                - NAT\n",
                "    - Install VirtualBox Guest Addition Extension\n",
                "        \n",
                "    - Set IPv4 address to 192.168.56.51\n",
                "        \n",
                "    - Rename to Workstation. Reboot.\n",
                "        \n",
                "    - Add to domain Lab.local\n",
                "        \n",
                "    - Install other softwares like SSMS, VS Code, RSAT Tools etc\n",
                "        \n",
                "    - Test Connectivity from HOST machine & Workstation"
            ],
            "metadata": {
                "azdata_cell_guid": "ae1eb63c-1398-4413-ba77-46b9dd9db011"
            },
            "attachments": {}
        },
        {
            "cell_type": "markdown",
            "source": [
                "## Day 02"
            ],
            "metadata": {
                "azdata_cell_guid": "b7286a68-ee6c-454b-8fd0-6b8dcd8ab433"
            }
        },
        {
            "cell_type": "markdown",
            "source": [
                "### Create VMs for SQL Server\n",
                "\n",
                "1. Create MSSQLPROD-A (192.168.56.11) & MSSQLPROD-B (192.168.56.12) on Primary subnet\n",
                "2. Create MSSQLDR-A (192.168.57.11) & MSSQLDR-B (192.168.57.12) on DR subnet\n",
                "3. C:\\\\ drive - 50 gb\n",
                "4. Join all machines to AD and WSFC MSSQLCluster.Lab.local (192.168.56.21, 192.168.57.21)\n",
                "5. Quorum -\\> Disk Witness\n",
                "\n",
                "#### Bridged Apapter Config\n",
                "Set some IP address, but keep gateway to DC IP of same subnet. DNS should reflect 8.8.8.8 & 8.8.4.4"
            ],
            "metadata": {
                "azdata_cell_guid": "8a8e51b4-d884-4705-86d7-33829748e411"
            },
            "attachments": {}
        },
        {
            "cell_type": "markdown",
            "source": [
                "### Create MSSQLShare.Lab.local (File Server)\n",
                "\n",
                "1. MSSQLShare.Lab.local (192.168.56.22, 192.168.57.22)\n",
                "2. Type -\\> File Server\n",
                "3. Preferred Owners -\\> All Prod/Drs\n",
                "4. S:\\\\ (100gb), S:\\\\Backup01 (20gb), S:\\\\Backup02 (20gb)\n",
                "5. Validate \\\\\\\\MSSQLShare\\\\Backup01\\\\\n",
                "6. Failover Role to other nodes for validation\n",
                "\n",
                "#### NOTE - Follow below steps for adding disk to Cluster \n",
                "1. Make sure MPIO feature is installed on each Cluster Node\n",
                "2. Match LUN between SAN and Node where disks are to be brought online\n",
                "3. Bring Disks online & Initialize only. DON'T create volume\n",
                "4. Add disks as Available Storage on cluster\n",
                "5. Rename disks and add dependency on mounted volumes for base drive\n",
                "6. Assign disks to cluster role one by one\n",
                "7. Change cluster role preferred owners appropriately\n",
                "8. Set Base Drive Possible Owners appropriately\n",
                "9. To assign drive letter/mounted volume\n",
                "    - First set cluster disk on maintenance\n",
                "    - Create & format volume without assigning any drive letter\n",
                "    - Remove from maintenance\n",
                "    - From disk management, assign drive letter, or create mounted volume"
            ],
            "metadata": {
                "azdata_cell_guid": "96178b65-fa5f-40ab-b816-38b9a270f554"
            },
            "attachments": {}
        },
        {
            "cell_type": "markdown",
            "source": [
                "## Day 03"
            ],
            "metadata": {
                "azdata_cell_guid": "fadc61c3-b8ff-4804-b551-a9a216ee6c13"
            }
        },
        {
            "cell_type": "markdown",
            "source": [
                "### Create role 'SQL Server (PROD1)'\n",
                "\n",
                "1. E:\\\\ (Prod-E-Drive, 10 gb)\n",
                "2. E:\\\\Data\\\\ (Prod-E-Data, 20 gb)\n",
                "3. E:\\\\Log\\\\ (Prod-E-Log, 5 gb)\n",
                "4. E:\\\\TempDb\\\\ (Prod-E-TempDb, 6 gb)\n",
                "5. Preferred Owners -\\> MSSQLPROD-A & MSSQLPROD-B\n",
                "\n",
                "### Create role 'SQL Server (DR1)'\n",
                "\n",
                "1. E:\\\\ (Dr-E-Drive, 10 gb)\n",
                "2. E:\\\\Data\\\\ (Dr-E-Data, 20 gb)\n",
                "3. E:\\\\Log\\\\ (Dr-E-Log, 5 gb)\n",
                "4. E:\\\\TempDb\\\\ (Dr-E-TempDb, 6 gb)\n",
                "5. Preferred Owners -\\> MSSQLDR-A & MSSQLDR-B\n",
                "\n",
                "### Create role 'SQL Server (PROD2)'\n",
                "\n",
                "1. E:\\\\ (Prod-F-Drive, 10 gb)\n",
                "2. E:\\\\Data\\\\ (Prod-F-Data, 20 gb)\n",
                "3. E:\\\\Log\\\\ (Prod-F-Log, 5 gb)\n",
                "4. E:\\\\TempDb\\\\ (Prod-F-TempDb, 6 gb)\n",
                "5. Preferred Owners -\\> MSSQLPROD-A & MSSQLPROD-B\n",
                "\n",
                "### Create role 'SQL Server (DR2)'\n",
                "\n",
                "1. E:\\\\ (Dr-F-Drive, 10 gb)\n",
                "2. E:\\\\Data\\\\ (Dr-F-Data, 20 gb)\n",
                "3. E:\\\\Log\\\\ (Dr-F-Log, 5 gb)\n",
                "4. E:\\\\TempDb\\\\ (Dr-F-TempDb, 6 gb)\n",
                "5. Preferred Owners -\\> MSSQLDR-A & MSSQLDR-B"
            ],
            "metadata": {
                "azdata_cell_guid": "84947010-5718-41ba-b7f6-181ea5b5ac62"
            }
        },
        {
            "cell_type": "markdown",
            "source": [
                "## Day 04"
            ],
            "metadata": {
                "azdata_cell_guid": "5b652734-4b22-4488-ba60-c01b9bf68842"
            }
        },
        {
            "cell_type": "markdown",
            "source": [
                "### Install fci mssqlprod1.lab.local\n",
                "\n",
                "1. Network Name -\\> MSSQLProd1.Lab.local (192.168.56.23)\n",
                "2. Nodes -\\> MSSQLProd-A\\\\Prod1, MSSQLProd-B\\\\Prod1\n",
                "3. Disks -\\> Resource Group 'SQL Server (PROD1)'\n",
                "\n",
                "Execute below PowerShell commands to add firewall exceptions -\n",
                "\n",
                "```\n",
                "netsh advfirewall firewall set rule group=”network discovery” new enable=yes\n",
                "netsh advfirewall firewall set rule group=”virtual machine monitoring” new enable=yes\n",
                "netsh advfirewall firewall add rule name=\"Microsoft iSCSI Software Target Service-TCP-3260\" dir=in action=allow protocol=TCP localport=3260\n",
                "netsh advfirewall firewall add rule name=\"Microsoft iSCSI Software Target Service-TCP-135\" dir=in action=allow protocol=TCP localport=135\n",
                "New-NetFirewallRule -DisplayName \"Sql Server (TCP/1433)\" -Direction Inbound -LocalPort 1433 -Protocol TCP -Action Allow -Profile Any\n",
                "New-NetFirewallRule -DisplayName \"SQL Browser (UDP/1434)\" -Direction Inbound -LocalPort 1434 -Protocol UDP -Action Allow -Profile Any\n",
                "New-NetFirewallRule -DisplayName \"SQL DAC (TCP/1434)\" -Direction Inbound -LocalPort 1434 -Protocol TCP -Action Allow -Profile Any\n",
                "New-NetFirewallRule -DisplayName \"Sql Server HADR (TCP/5022)\" -Direction Outbound -LocalPort 5022 -Protocol TCP -Action Allow -Profile Any\n",
                "\n",
                "```"
            ],
            "metadata": {
                "azdata_cell_guid": "cfcd8095-67d1-4a96-b64d-631745830fa8"
            },
            "attachments": {}
        },
        {
            "cell_type": "markdown",
            "source": [
                "### Issue/Fix - Below error is received since Data, Log, TempDb are directly under Mount Points\n",
                "\n",
                "![](attachment:image.png)\n",
                "\n",
                "#### Solution - Execute below in Elevated powershell to transfer ownership to Admins\n",
                "\n",
                "```\n",
                "takeown --% /f \"E:\\Data\" /r /d y /a\n",
                "takeown --% /f \"E:\\Log\" /r /d y /a\n",
                "takeown --% /f \"E:\\TempDb\" /r /d y /a\n",
                "```"
            ],
            "metadata": {
                "azdata_cell_guid": "4c7ea5c8-2569-4c55-9484-ca89f663f1de"
            },
            "attachments": {
                "image.png": {
                    "image/png": "[encoded data removed]"
                }
            }
        },
        {
            "cell_type": "markdown",
            "source": [
                "### Install fci mssqldr1.lab.local\n",
                "\n",
                "1. Network Name -\\> MSSQLDr1.Lab.local (192.168.57.23)\n",
                "2. Nodes -\\> MSSQLDr-A\\\\Dr1, MSSQLDr-B\\\\Dr1\n",
                "3. Disks -\\> Resource Group 'SQL Server (DR1)'"
            ],
            "metadata": {
                "azdata_cell_guid": "dea7990a-f038-4f30-bc9d-3b8bb4f4f4e4"
            }
        },
        {
            "cell_type": "markdown",
            "source": [
                "### Install fci mssqlprod2.lab.local\n",
                "\n",
                "1.  Network Name -> MSSQLProd2.Lab.local (192.168.56.24)\n",
                "2.  Nodes -> MSSQLProd-A\\Prod2, MSSQLProd-B\\Prod2\n",
                "3.  Disks -> Resource Group 'SQL Server (PROD2)'"
            ],
            "metadata": {
                "azdata_cell_guid": "ea1fce1c-40d4-47d5-bb04-4d073e01b09f"
            }
        },
        {
            "cell_type": "markdown",
            "source": [
                "### Install fci mssqldr2.lab.local\n",
                "\n",
                "1. Network Name -\\> MSSQLDr2.Lab.local (192.168.57.24)\n",
                "2. Nodes -\\> MSSQLDr-A\\\\Dr2, MSSQLDr-B\\\\Dr1\n",
                "3. Disks -\\> Resource Group 'SQL Server (DR2)'\n",
                "\n",
                "  \n",
                "\n",
                "Incase failover of SqlCluster fails to other nodes due to improper preferred/possible owners, below scripts can be used for same -\n",
                "\n",
                "  \n",
                "\n",
                "```\n",
                "# Failover & Set Preferred Owner (Single/Multi)\n",
                "$Error.Clear()\n",
                "\n",
                "# SqlProd- Cluster Parameters\n",
                "$ProdSqlInstances = 1..3 | % {\"SqlProd$_\"}\n",
                "$ProdNodes = @('A','B','C') | % {\"SqlProd-$_\"}\n",
                "$DrSqlInstances = 1..3 | % {\"SqlDr$_\"}\n",
                "$DrNodes = @('A','B','C') | % {\"SqlDr-$_\"}\n",
                "$SqlInstances = $ProdSqlInstances + $DrSqlInstances\n",
                "$Nodes = $ProdNodes + $DrNodes\n",
                "$ClusterName = 'SqlCluster'\n",
                "\n",
                "$clus = Get-Cluster -Name $ClusterName\n",
                "$clusGroup = $clus | Get-ClusterGroup | ? {$_.Name -like 'SqlProd3*'}\n",
                "\n",
                "# Info\n",
                "$clusGroup.Name # Cluster Group Name\n",
                "$clusGroup.OwnerNode.Name # Owner\n",
                "\n",
                "# Move to other node\n",
                "$clusGroup | Move-ClusterGroup -Node 'SqlProd-A'\n",
                "\n",
                "# Set Preferred Owners & Possible Owners\n",
                "$clusGroup | Set-ClusterOwnerNode -Owners $ProdNodes -ErrorAction Stop\n",
                "$clusGroup | Get-ClusterResource | Set-ClusterOwnerNode -Owners $ProdNodes\n",
                "```"
            ],
            "metadata": {
                "azdata_cell_guid": "c97da88a-b217-4ada-b53a-9ea268884cb3"
            },
            "attachments": {}
        },
        {
            "cell_type": "markdown",
            "source": [
                "## Day 05"
            ],
            "metadata": {
                "azdata_cell_guid": "0a83425c-f68b-4f99-890c-0af19230da83"
            }
        },
        {
            "cell_type": "markdown",
            "source": [
                "### Setup availability group mssqlprod1ag1\n",
                "1.  Replicas -> MSSQLProd1\\Prod1, MSSQLDr1\\Dr1\n",
                "2.  Listener -> mssqlprod1ag1 (192.168.56.31, 192.168.57.31)"
            ],
            "metadata": {
                "azdata_cell_guid": "b081dfea-5ed2-45c7-b056-753b5397026b"
            }
        },
        {
            "cell_type": "markdown",
            "source": [
                "### Setup availability group mssqlprod2ag\\*\n",
                "\n",
                "1. Replicas -\\> MSSQLProd2\\\\Prod2, MSSQLDr2\\\\Dr2\n",
                "2. Listener -\\> mssqlprod2ag1 (192.168.56.32, 192.168.57.32)\n",
                "3. Listener -\\> mssqlprod2ag2 (192.168.56.33, 192.168.57.33)\n",
                "4. Listener -\\> mssqlprod2ag3 (192.168.56.34, 192.168.57.34)"
            ],
            "metadata": {
                "azdata_cell_guid": "ae67e919-4751-4f94-8b4d-1e060bfc75c5"
            }
        },
        {
            "cell_type": "markdown",
            "source": [
                "## Day 06"
            ],
            "metadata": {
                "azdata_cell_guid": "170fc992-486b-47d4-aa23-7528a3d04851"
            }
        },
        {
            "cell_type": "markdown",
            "source": [
                "### Transactional Replication with Remote Distributor Ag\n",
                "1.  "
            ],
            "metadata": {
                "azdata_cell_guid": "ed0afc2e-384e-4d02-9f00-196ac1a8204c"
            }
        }
    ]
}