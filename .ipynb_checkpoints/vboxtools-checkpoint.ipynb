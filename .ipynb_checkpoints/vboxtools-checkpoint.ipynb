{
 "cells": [
  {
   "cell_type": "code",
   "execution_count": 1,
   "metadata": {},
   "outputs": [],
   "source": [
    "import os, platform, json, re"
   ]
  },
  {
   "cell_type": "code",
   "execution_count": 2,
   "metadata": {},
   "outputs": [],
   "source": [
    "class VirtualMachineRegister():\n",
    "    \"\"\"\n",
    "    DOCTRING: Library of virtual machines\n",
    "    INPUT:\n",
    "    OUTPUT:\n",
    "    \"\"\"\n",
    "\n",
    "    def __init__(self,vm_name):\n",
    "        #self.vm_name = vm_name\n",
    "        self.default_machine_folder = self.__find_default_machine_folder()\n",
    "        self.__path_separator = self.__get_path_separator()\n",
    "        #self.template_file = f'{self.default_machine_folder}{self.path_separator}{self.vm_name}-vboxtools-template.json'\n",
    "\n",
    "    def generate_template(self):\n",
    "        pass\n",
    "\n",
    "    def __find_default_machine_folder(self):\n",
    "        stream = os.popen('VBoxManage list systemproperties | grep \"Default machine folder:\"')\n",
    "        output = stream.readline()\n",
    "        m = re.match(r\"^Default machine folder:\\s+(?P<machine_folder>.+)\", output)\n",
    "        return m.group('machine_folder')\n",
    "\n",
    "    def __get_path_separator(self):\n",
    "        path_separator = \"\\\\\"\n",
    "        if(platform.sys.platform == 'linux'):\n",
    "            path_separator = '/'\n",
    "        return path_separator\n",
    "\n",
    "    def __iter__(self):\n",
    "      self.__counter = 1\n",
    "      return self\n",
    "\n",
    "    def __next__(self):\n",
    "      x = self.__counter\n",
    "      self.a += 1\n",
    "      return x"
   ]
  },
  {
   "cell_type": "code",
   "execution_count": null,
   "metadata": {},
   "outputs": [],
   "source": []
  }
 ],
 "metadata": {
  "kernelspec": {
   "display_name": "Python 3",
   "language": "python",
   "name": "python3"
  },
  "language_info": {
   "codemirror_mode": {
    "name": "ipython",
    "version": 3
   },
   "file_extension": ".py",
   "mimetype": "text/x-python",
   "name": "python",
   "nbconvert_exporter": "python",
   "pygments_lexer": "ipython3",
   "version": "3.8.5"
  }
 },
 "nbformat": 4,
 "nbformat_minor": 2
}
