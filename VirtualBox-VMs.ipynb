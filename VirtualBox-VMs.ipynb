{
 "metadata": {
  "language_info": {
   "codemirror_mode": {
    "name": "ipython",
    "version": 3
   },
   "file_extension": ".py",
   "mimetype": "text/x-python",
   "name": "python",
   "nbconvert_exporter": "python",
   "pygments_lexer": "ipython3",
   "version": "3.8.5-final"
  },
  "orig_nbformat": 2,
  "kernelspec": {
   "name": "python3",
   "display_name": "Python 3.8.5 64-bit ('base': conda)",
   "metadata": {
    "interpreter": {
     "hash": "8f51179b95cc92a0efd56eb59e6986c1fbb96d339a0fe957e7a9e762b2cac3ca"
    }
   }
  }
 },
 "nbformat": 4,
 "nbformat_minor": 2,
 "cells": [
  {
   "source": [
    "# Import Modules"
   ],
   "cell_type": "markdown",
   "metadata": {}
  },
  {
   "cell_type": "code",
   "execution_count": null,
   "metadata": {},
   "outputs": [],
   "source": [
    "import os"
   ]
  },
  {
   "cell_type": "code",
   "execution_count": 4,
   "metadata": {},
   "outputs": [
    {
     "output_type": "stream",
     "name": "stdout",
     "text": [
      "Current directory is '/study-zone/GitHub/SQL_Lab'\n"
     ]
    }
   ],
   "source": [
    "cwd = os.getcwd()\n",
    "print(f\"Current directory is '{cwd}'\")"
   ]
  },
  {
   "source": [
    "#### Parameter - Set Virtual Machines directory"
   ],
   "cell_type": "markdown",
   "metadata": {}
  },
  {
   "cell_type": "code",
   "execution_count": 8,
   "metadata": {},
   "outputs": [
    {
     "output_type": "execute_result",
     "data": {
      "text/plain": [
       "['SQL-F',\n",
       " 'Android',\n",
       " 'SQL-E',\n",
       " 'SQL-H',\n",
       " 'SQL-D',\n",
       " 'SQL-C',\n",
       " 'SQL-A',\n",
       " 'Win10',\n",
       " 'SQL-B',\n",
       " 'DC',\n",
       " 'SQL-G',\n",
       " 'SQL-I',\n",
       " 'OEM']"
      ]
     },
     "metadata": {},
     "execution_count": 8
    }
   ],
   "source": [
    "VIRTUAL_MACHINES_PATH = '/study-zone/virtual-machines/'\n",
    "os.listdir(VIRTUAL_MACHINES_PATH)"
   ]
  },
  {
   "cell_type": "code",
   "execution_count": 14,
   "metadata": {},
   "outputs": [
    {
     "output_type": "execute_result",
     "data": {
      "text/plain": [
       "['SQL-F',\n",
       " 'SQL-E',\n",
       " 'SQL-H',\n",
       " 'SQL-D',\n",
       " 'SQL-C',\n",
       " 'SQL-A',\n",
       " 'SQL-B',\n",
       " 'SQL-G',\n",
       " 'SQL-I']"
      ]
     },
     "metadata": {},
     "execution_count": 14
    }
   ],
   "source": [
    "# Loop through all vms, and select only SQL* virtual machines\n",
    "sql_vms = []\n",
    "for vm_folder in os.listdir(VIRTUAL_MACHINES_PATH):\n",
    "    if vm_folder.startswith('SQL'):\n",
    "        sql_vms.append(vm_folder)\n",
    "        #print(f\"{vm_folder}\")\n",
    "sql_vms"
   ]
  },
  {
   "cell_type": "code",
   "execution_count": null,
   "metadata": {},
   "outputs": [],
   "source": []
  }
 ]
}