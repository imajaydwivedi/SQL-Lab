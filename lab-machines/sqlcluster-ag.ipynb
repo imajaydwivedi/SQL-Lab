{
 "cells": [
  {
   "cell_type": "code",
   "execution_count": null,
   "metadata": {
    "dotnet_interactive": {
     "language": "pwsh"
    },
    "vscode": {
     "languageId": "dotnet-interactive.pwsh"
    }
   },
   "outputs": [
    {
     "name": "stdout",
     "output_type": "stream",
     "text": [
      "\n",
      "Tuesday, 4 October, 2022 10:29:26 pm\n",
      "\n"
     ]
    }
   ],
   "source": [
    "Get-Date"
   ]
  }
 ],
 "metadata": {
  "kernelspec": {
   "display_name": ".NET (C#)",
   "language": "C#",
   "name": ".net-csharp"
  },
  "language_info": {
   "file_extension": ".cs",
   "mimetype": "text/x-csharp",
   "name": "C#",
   "pygments_lexer": "csharp",
   "version": "9.0"
  },
  "orig_nbformat": 4,
  "vscode": {
   "interpreter": {
    "hash": "cc2234bf70934d6d02c906f64ac02f500cf4c3192f5a0b3dc246a7d18d57e76b"
   }
  }
 },
 "nbformat": 4,
 "nbformat_minor": 2
}
