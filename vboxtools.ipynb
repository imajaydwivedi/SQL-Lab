{
 "cells": [
  {
   "cell_type": "code",
   "execution_count": 45,
   "metadata": {},
   "outputs": [],
   "source": [
    "import os, platform, json, re"
   ]
  },
  {
   "cell_type": "code",
   "execution_count": 44,
   "metadata": {},
   "outputs": [
    {
     "name": "stdout",
     "output_type": "stream",
     "text": [
      "\"DC\" {0e536a6d-afa6-4515-83ef-2d35b1e0202d}\n",
      "\"Android\" {1543d900-77c3-4715-a71d-14cf8f4897a3}\n",
      "\"SQL-A\" {e81a6bbe-882a-4ea5-87fa-37e3f4289a5c}\n",
      "\"SQL-B\" {38487b47-2691-4093-9176-abb59f9194c8}\n",
      "\"SQL-C\" {2590ffbc-1cd9-491f-bdad-49b3d7036217}\n",
      "\"SQL-D\" {a010b2d7-b422-4ff2-b9ee-cb4ad46df9fd}\n",
      "\"SQL-E\" {efb9dc05-0796-454a-8ade-74751c59b1b5}\n",
      "\"Win10\" {eb0b7b7e-0dde-4670-bc1b-c20dfa47d910}\n",
      "\"SQL-F\" {28f01562-9967-4fd0-8ae7-f0c625397d27}\n",
      "\"SQL-G\" {60c545f9-c53c-4174-8200-592535036503}\n",
      "\"SQL-H\" {57b31004-7ec6-4293-ab1a-831dac9dde9e}\n",
      "\"SQL-I\" {1ebe4469-c975-450d-aa15-c912a62fac81}\n"
     ]
    }
   ],
   "source": [
    "stream = os.popen('VBoxManage list vms')\n",
    "output = stream.readlines()\n",
    "for ln in output:\n",
    "    line = ln.strip()\n",
    "    print(line)\n",
    "    m = re.match(r'\\w', line)\n",
    "    "
   ]
  },
  {
   "cell_type": "code",
   "execution_count": 49,
   "metadata": {},
   "outputs": [],
   "source": [
    "line = '\"SQL-A\" {1543d900-77c3-4715-a71d-14cf8f4897a3}'"
   ]
  },
  {
   "cell_type": "code",
   "execution_count": 67,
   "metadata": {},
   "outputs": [
    {
     "name": "stdout",
     "output_type": "stream",
     "text": [
      "SQL-A\n"
     ]
    }
   ],
   "source": [
    "m = re.match(r'^\"(?P<vm_name>[A-Za-z0-9-_]*)\"\\s\\{[A-Za-z0-9]{8}-[A-Za-z0-9]{4}-[A-Za-z0-9]{4}-[A-Za-z0-9]{4}-[A-Za-z0-9]{12}\\}$', line)\n",
    "print(m.group('vm_name'))"
   ]
  },
  {
   "cell_type": "code",
   "execution_count": 59,
   "metadata": {},
   "outputs": [
    {
     "name": "stdout",
     "output_type": "stream",
     "text": [
      "None\n"
     ]
    }
   ],
   "source": [
    "m = re.match(r'^\"[A-Za-z0-9-_]*\"\\s\\{[A-Za-z0-9]{8}-[A-Za-z0-9]{4}-[A-Za-z0-9]{4}-[A-Za-z0-9]{12}\\}$', line)\n",
    "print(m)"
   ]
  },
  {
   "cell_type": "code",
   "execution_count": 73,
   "metadata": {},
   "outputs": [],
   "source": [
    "vms = list()"
   ]
  },
  {
   "cell_type": "code",
   "execution_count": 74,
   "metadata": {},
   "outputs": [],
   "source": [
    "vms.append('DC')\n",
    "vms.append('SQL-A')"
   ]
  },
  {
   "cell_type": "code",
   "execution_count": 75,
   "metadata": {},
   "outputs": [
    {
     "data": {
      "text/plain": [
       "['DC', 'SQL-A']"
      ]
     },
     "execution_count": 75,
     "metadata": {},
     "output_type": "execute_result"
    }
   ],
   "source": [
    "vms"
   ]
  },
  {
   "cell_type": "code",
   "execution_count": null,
   "metadata": {},
   "outputs": [],
   "source": []
  }
 ],
 "metadata": {
  "kernelspec": {
   "display_name": "Python 3",
   "language": "python",
   "name": "python3"
  },
  "language_info": {
   "codemirror_mode": {
    "name": "ipython",
    "version": 3
   },
   "file_extension": ".py",
   "mimetype": "text/x-python",
   "name": "python",
   "nbconvert_exporter": "python",
   "pygments_lexer": "ipython3",
   "version": "3.8.5"
  }
 },
 "nbformat": 4,
 "nbformat_minor": 2
}
